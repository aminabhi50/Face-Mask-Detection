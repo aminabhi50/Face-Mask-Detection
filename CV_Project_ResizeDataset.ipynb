{
  "nbformat": 4,
  "nbformat_minor": 0,
  "metadata": {
    "colab": {
      "name": "CV_Project_ResizeDataset.ipynb",
      "provenance": [],
      "collapsed_sections": []
    },
    "kernelspec": {
      "name": "python3",
      "display_name": "Python 3"
    },
    "language_info": {
      "name": "python"
    }
  },
  "cells": [
    {
      "cell_type": "code",
      "metadata": {
        "id": "oY1yN3_eKa4J"
      },
      "source": [
        "import os\n",
        "import numpy as np\n",
        "import cv2"
      ],
      "execution_count": null,
      "outputs": []
    },
    {
      "cell_type": "code",
      "metadata": {
        "id": "scpsjj9vKnIe"
      },
      "source": [
        "# Function to load the train data's images name and their labels\n",
        "def loadData(path):\n",
        "  data = []\n",
        "  labels = []\n",
        "  for folder in os.listdir(path):\n",
        "    for sub in os.listdir(path + folder):\n",
        "      for img in os.listdir(path + folder + \"/\" + sub):\n",
        "        data.append((path + folder + \"/\" + sub + \"/\" + img))\n",
        "        labels.append(folder)\n",
        "  return np.array(data), np.array(labels)\n",
        "\n",
        "# Data is splitted into X and Y\n",
        "def splitXY(inputs):\n",
        "  X = []\n",
        "  Y = []\n",
        "  for i in range(inputs.shape[0]):\n",
        "    X.append(inputs[i][0])\n",
        "    Y.append(inputs[i][1])\n",
        "  return np.array(X), np.array(Y)\n",
        "\n",
        "# Images are resized and stored into numpy array\n",
        "def resizeImages(images):\n",
        "  X = np.ndarray((images.shape[0], 224*224*3), dtype=np.uint8)\n",
        "  cr_img = []\n",
        "\n",
        "  for i, img in enumerate(images):\n",
        "    imgRead = cv2.imread(img, cv2.IMREAD_COLOR)\n",
        "    # imgRead = image.load_img(img)\n",
        "    try:\n",
        "      # X[i, :] = (imgRead.resize((32, 32), resample=0)).reshape(32*32*3)   \n",
        "      X[i, :] = (cv2.resize(imgRead, (224, 224), interpolation=cv2.INTER_CUBIC)).reshape(224*224*3)       \n",
        "    except:\n",
        "      cr_img.append(i)\n",
        "      print(i,\"  \",img)\n",
        "      print(cr_img)\n",
        "    \n",
        "    if i%100 == 0:\n",
        "      print(\"Processed Images = {}\".format(i))\n",
        "    if i == (images.shape[0]-1):\n",
        "      print(\"Processed Images = {}\".format(i+1))\n",
        "  return X, cr_img"
      ],
      "execution_count": null,
      "outputs": []
    },
    {
      "cell_type": "code",
      "metadata": {
        "colab": {
          "base_uri": "https://localhost:8080/"
        },
        "id": "QzrIyBWOKozo",
        "outputId": "86c40a3f-57a2-493a-9ac2-6466cb7bc5e3"
      },
      "source": [
        "print(\"Processing of Dataset\")\n",
        "print(\"---------------------------\")\n",
        "\n",
        "path = \"/content/drive/MyDrive/Colab Notebooks/Spring Summer 2021/CVIP/Project/Dataset/\"\n",
        "data, labels = loadData(path)\n",
        "print(\"Total Data = {}\".format(data.shape))\n",
        "\n",
        "print(\"\\nResizing of Images:\")\n",
        "resizedData, corruptList = resizeImages(data)\n",
        "print(\"\\nShape of Data = {}\".format(resizedData.shape))\n",
        "print(\"Shape of Labels = {}\".format(labels.shape))"
      ],
      "execution_count": null,
      "outputs": [
        {
          "output_type": "stream",
          "text": [
            "Processing of Dataset\n",
            "---------------------------\n",
            "Total Data = (3795,)\n",
            "\n",
            "Resizing of Images:\n",
            "Processed Images = 0\n",
            "Processed Images = 100\n",
            "Processed Images = 200\n",
            "Processed Images = 300\n",
            "Processed Images = 400\n",
            "Processed Images = 500\n",
            "Processed Images = 600\n",
            "Processed Images = 700\n",
            "Processed Images = 800\n",
            "Processed Images = 900\n",
            "Processed Images = 1000\n",
            "Processed Images = 1100\n",
            "Processed Images = 1200\n",
            "Processed Images = 1300\n",
            "Processed Images = 1400\n",
            "Processed Images = 1500\n",
            "Processed Images = 1600\n",
            "Processed Images = 1700\n",
            "Processed Images = 1800\n",
            "Processed Images = 1900\n",
            "Processed Images = 2000\n",
            "Processed Images = 2100\n",
            "Processed Images = 2200\n",
            "Processed Images = 2300\n",
            "Processed Images = 2400\n",
            "Processed Images = 2500\n",
            "Processed Images = 2600\n",
            "Processed Images = 2700\n",
            "Processed Images = 2800\n",
            "Processed Images = 2900\n",
            "Processed Images = 3000\n",
            "Processed Images = 3100\n",
            "Processed Images = 3200\n",
            "Processed Images = 3300\n",
            "Processed Images = 3400\n",
            "Processed Images = 3500\n",
            "Processed Images = 3600\n",
            "Processed Images = 3700\n",
            "Processed Images = 3795\n",
            "\n",
            "Shape of Data = (3795, 150528)\n",
            "Shape of Labels = (3795,)\n"
          ],
          "name": "stdout"
        }
      ]
    },
    {
      "cell_type": "code",
      "metadata": {
        "colab": {
          "base_uri": "https://localhost:8080/"
        },
        "id": "RIrTnXgHKrSZ",
        "outputId": "94f1919a-7853-48c1-d65c-0c69c23addc4"
      },
      "source": [
        "X = np.delete(resizedData, corruptList, 0)\n",
        "Y = np.delete(labels, corruptList, 0)\n",
        "print(X.shape, Y.shape)\n",
        "\n",
        "np.save('/content/drive/MyDrive/Colab Notebooks/Spring Summer 2021/CVIP/Project/data2_224.npy', X)\n",
        "np.save('/content/drive/MyDrive/Colab Notebooks/Spring Summer 2021/CVIP/Project/labels2_224.npy', Y)"
      ],
      "execution_count": null,
      "outputs": [
        {
          "output_type": "stream",
          "text": [
            "(3795, 150528) (3795,)\n"
          ],
          "name": "stdout"
        }
      ]
    }
  ]
}