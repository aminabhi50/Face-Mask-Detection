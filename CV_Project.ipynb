{
  "nbformat": 4,
  "nbformat_minor": 0,
  "metadata": {
    "colab": {
      "name": "CV_Project",
      "provenance": [],
      "collapsed_sections": []
    },
    "kernelspec": {
      "name": "python3",
      "display_name": "Python 3"
    },
    "language_info": {
      "name": "python"
    }
  },
  "cells": [
    {
      "cell_type": "code",
      "metadata": {
        "id": "McGzkurnwOM0"
      },
      "source": [
        "import keras\n",
        "import time\n",
        "import numpy as np\n",
        "import tensorflow as tf\n",
        "from keras.optimizers import SGD\n",
        "from keras.callbacks import ModelCheckpoint\n",
        "from keras.applications.resnet import ResNet50\n",
        "from sklearn.model_selection import train_test_split"
      ],
      "execution_count": 5,
      "outputs": []
    },
    {
      "cell_type": "code",
      "metadata": {
        "colab": {
          "base_uri": "https://localhost:8080/"
        },
        "id": "wvZQV3ozwUv3",
        "outputId": "432bb7b2-ff1d-422c-d9ed-8bb38cd962b7"
      },
      "source": [
        "# Loading data\n",
        "data = np.load('/content/drive/MyDrive/data_224.npy')\n",
        "labels = np.load('/content/drive/MyDrive/labels_224.npy')\n",
        "\n",
        "# One hot encode labels\n",
        "unique, inverse = np.unique(labels, return_inverse=True)\n",
        "labels = np.eye(unique.shape[0])[inverse]\n",
        "\n",
        "# Loading data2\n",
        "data2 = np.load('/content/drive/MyDrive/data2_224.npy')\n",
        "labels2 = np.load('/content/drive/MyDrive/labels2_224.npy')\n",
        "\n",
        "# One hot encode labels\n",
        "unique, inverse = np.unique(labels2, return_inverse=True)\n",
        "labels2 = np.eye(unique.shape[0])[inverse]\n",
        "\n",
        "data = np.concatenate((data, data2))\n",
        "labels = np.concatenate((labels, labels2))\n",
        "\n",
        "# Reshape image array\n",
        "data = np.reshape(data,(len(data),224,224,3))\n",
        "\n",
        "print(\"Data   : \",data.shape)\n",
        "print(\"Labels : \",labels.shape)"
      ],
      "execution_count": 6,
      "outputs": [
        {
          "output_type": "stream",
          "text": [
            "Data   :  (7890, 224, 224, 3)\n",
            "Labels :  (7890, 2)\n"
          ],
          "name": "stdout"
        }
      ]
    },
    {
      "cell_type": "code",
      "metadata": {
        "colab": {
          "base_uri": "https://localhost:8080/"
        },
        "id": "zraDYMtyxQzS",
        "outputId": "46776e01-d23c-44b4-a914-83fb98ac11fe"
      },
      "source": [
        "X_train, X_test, y_train, y_test = train_test_split(data, labels, test_size=0.30)\n",
        "\n",
        "print(\"Training Data   : \",X_train.shape)\n",
        "print(\"Training Labels : \",y_train.shape)\n",
        "print(\"Testing  Data   : \",X_test.shape)\n",
        "print(\"Testing  Labels : \",y_test.shape)"
      ],
      "execution_count": 7,
      "outputs": [
        {
          "output_type": "stream",
          "text": [
            "Training Data   :  (5523, 224, 224, 3)\n",
            "Training Labels :  (5523, 2)\n",
            "Testing  Data   :  (2367, 224, 224, 3)\n",
            "Testing  Labels :  (2367, 2)\n"
          ],
          "name": "stdout"
        }
      ]
    },
    {
      "cell_type": "code",
      "metadata": {
        "colab": {
          "base_uri": "https://localhost:8080/"
        },
        "id": "conQ8FhPCd8v",
        "outputId": "246cfbed-ad86-4233-9845-3c368cb444c1"
      },
      "source": [
        "resnet_model = ResNet50(weights='imagenet',include_top=False)\n",
        "\n",
        "# Pooling/ flat\n",
        "pooling = keras.layers.GlobalAveragePooling2D()(resnet_model.output)\n",
        "\n",
        "# Adding fully connected layer 1\n",
        "pred = keras.layers.Dense(2, activation='softmax', name=\"pred\")(pooling)\n",
        "\n",
        "# Final model\n",
        "model = keras.models.Model(inputs = resnet_model.input, outputs=pred)\n",
        "\n",
        "# Options setting\n",
        "options = keras.optimizers.SGD(learning_rate=1e-3,decay=1e-6,momentum=0.9)\n",
        "\n",
        "model.compile(optimizer=options, metrics=[\"accuracy\"],loss='categorical_crossentropy')\n",
        "\n",
        "# saving the best model \n",
        "filepath=\"/content/drive/MyDrive/mask-detection.hdf5\"\n",
        "checkpoint = ModelCheckpoint(filepath, monitor='val_accuracy', verbose=1, save_best_only=True, mode='max')\n",
        "callbacks_list = [checkpoint]\n",
        "\n",
        "# train the model\n",
        "start = time.time()\n",
        "model.fit(X_train, y_train, batch_size = 64, epochs = 5, shuffle=True, callbacks = callbacks_list, validation_data=(X_test, y_test))\n",
        "end = time.time()\n",
        "\n",
        "# testing the model\n",
        "start2 = time.time()\n",
        "_,train_acc = model.evaluate(X_train,y_train, batch_size=1)\n",
        "_,test_acc = model.evaluate(X_test,y_test, batch_size=1)\n",
        "end2 = time.time()\n",
        "\n",
        "print(\"======================================================================================================================================\")\n",
        "print(\"Training time : \",end-start)\n",
        "print(\"Testing time  : \",end2-start2)\n",
        "print(\"Training Accuracy : \",train_acc*100)\n",
        "print(\"Testing  Accuracy : \",test_acc*100)\n",
        "print(\"======================================================================================================================================\")"
      ],
      "execution_count": 9,
      "outputs": [
        {
          "output_type": "stream",
          "text": [
            "Downloading data from https://storage.googleapis.com/tensorflow/keras-applications/resnet/resnet50_weights_tf_dim_ordering_tf_kernels_notop.h5\n",
            "94773248/94765736 [==============================] - 1s 0us/step\n",
            "94781440/94765736 [==============================] - 1s 0us/step\n",
            "Epoch 1/5\n",
            "87/87 [==============================] - 195s 2s/step - loss: 0.4158 - accuracy: 0.7961 - val_loss: 0.0301 - val_accuracy: 0.9899\n",
            "\n",
            "Epoch 00001: val_accuracy improved from -inf to 0.98986, saving model to /content/drive/MyDrive/mask-detection.hdf5\n"
          ],
          "name": "stdout"
        },
        {
          "output_type": "stream",
          "text": [
            "/usr/local/lib/python3.7/dist-packages/keras/utils/generic_utils.py:497: CustomMaskWarning: Custom mask layers require a config and must override get_config. When loading, the custom mask layer must be passed to the custom_objects argument.\n",
            "  category=CustomMaskWarning)\n"
          ],
          "name": "stderr"
        },
        {
          "output_type": "stream",
          "text": [
            "Epoch 2/5\n",
            "87/87 [==============================] - 123s 1s/step - loss: 0.0217 - accuracy: 0.9965 - val_loss: 0.0233 - val_accuracy: 0.9937\n",
            "\n",
            "Epoch 00002: val_accuracy improved from 0.98986 to 0.99366, saving model to /content/drive/MyDrive/mask-detection.hdf5\n",
            "Epoch 3/5\n",
            "87/87 [==============================] - 123s 1s/step - loss: 0.0121 - accuracy: 0.9973 - val_loss: 0.0182 - val_accuracy: 0.9958\n",
            "\n",
            "Epoch 00003: val_accuracy improved from 0.99366 to 0.99578, saving model to /content/drive/MyDrive/mask-detection.hdf5\n",
            "Epoch 4/5\n",
            "87/87 [==============================] - 123s 1s/step - loss: 0.0074 - accuracy: 0.9998 - val_loss: 0.0158 - val_accuracy: 0.9962\n",
            "\n",
            "Epoch 00004: val_accuracy improved from 0.99578 to 0.99620, saving model to /content/drive/MyDrive/mask-detection.hdf5\n",
            "Epoch 5/5\n",
            "87/87 [==============================] - 123s 1s/step - loss: 0.0043 - accuracy: 0.9996 - val_loss: 0.0156 - val_accuracy: 0.9945\n",
            "\n",
            "Epoch 00005: val_accuracy did not improve from 0.99620\n",
            "5523/5523 [==============================] - 134s 23ms/step - loss: 0.0016 - accuracy: 1.0000\n",
            "2367/2367 [==============================] - 55s 23ms/step - loss: 0.0156 - accuracy: 0.9945\n",
            "======================================================================================================================================\n",
            "Training time :  713.7929928302765\n",
            "Testing time  :  228.16600465774536\n",
            "Training Accuracy :  100.0\n",
            "Testing  Accuracy :  99.45077896118164\n",
            "======================================================================================================================================\n"
          ],
          "name": "stdout"
        }
      ]
    },
    {
      "cell_type": "code",
      "metadata": {
        "colab": {
          "base_uri": "https://localhost:8080/"
        },
        "id": "pbRzFhrRw9sI",
        "outputId": "cf9e1859-b267-4929-b736-45a28aa40894"
      },
      "source": [
        "from keras.models import load_model\n",
        "model=load_model(\"/content/drive/MyDrive/mask-detection.hdf5\")\n",
        "_,train_acc = model.evaluate(X_train,y_train, batch_size=1)\n",
        "_,test_acc = model.evaluate(X_test,y_test, batch_size=1)"
      ],
      "execution_count": 16,
      "outputs": [
        {
          "output_type": "stream",
          "text": [
            "5523/5523 [==============================] - 130s 23ms/step - loss: 0.0021 - accuracy: 1.0000\n",
            "2367/2367 [==============================] - 55s 23ms/step - loss: 0.0158 - accuracy: 0.9962\n"
          ],
          "name": "stdout"
        }
      ]
    }
  ]
}